{
 "cells": [
  {
   "cell_type": "markdown",
   "id": "dfc50864-bc69-44c3-9f82-770f130b307e",
   "metadata": {},
   "source": [
    "# Good Notebook\n",
    "This has no error in it\n"
   ]
  },
  {
   "cell_type": "code",
   "execution_count": 1,
   "id": "4b8f7073-761f-493c-a4cc-4799d7a8f842",
   "metadata": {},
   "outputs": [
    {
     "data": {
      "text/plain": [
       "4"
      ]
     },
     "execution_count": 1,
     "metadata": {},
     "output_type": "execute_result"
    }
   ],
   "source": [
    "2 + 2"
   ]
  },
  {
   "cell_type": "code",
   "execution_count": null,
   "id": "c3782522-2b17-49f9-8f1d-1d82d849d29b",
   "metadata": {},
   "outputs": [],
   "source": []
  }
 ],
 "metadata": {
  "kernelspec": {
   "display_name": "Python 3 (ipykernel)",
   "language": "python",
   "name": "python3"
  },
  "language_info": {
   "codemirror_mode": {
    "name": "ipython",
    "version": 3
   },
   "file_extension": ".py",
   "mimetype": "text/x-python",
   "name": "python",
   "nbconvert_exporter": "python",
   "pygments_lexer": "ipython3",
   "version": "3.13.5"
  }
 },
 "nbformat": 4,
 "nbformat_minor": 5
}
